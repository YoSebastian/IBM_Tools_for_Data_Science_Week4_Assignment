{
  "metadata": {
    "kernelspec": {
      "name": "python",
      "display_name": "Pyolite",
      "language": "python"
    },
    "language_info": {
      "codemirror_mode": {
        "name": "python",
        "version": 3
      },
      "file_extension": ".py",
      "mimetype": "text/x-python",
      "name": "python",
      "nbconvert_exporter": "python",
      "pygments_lexer": "ipython3",
      "version": "3.8"
    }
  },
  "nbformat_minor": 4,
  "nbformat": 4,
  "cells": [
    {
      "cell_type": "markdown",
      "source": "<center>\n    <img src=\"https://s3-api.us-geo.objectstorage.softlayer.net/cf-courses-data/CognitiveClass/Logos/organization_logo/organization_logo.png\" width=\"300\" alt=\"cognitiveclass.ai logo\"  />\n</center>\n",
      "metadata": {}
    },
    {
      "cell_type": "markdown",
      "source": "#### Add your code below following the instructions given in the course\n",
      "metadata": {}
    },
    {
      "cell_type": "markdown",
      "source": "# My Jupyter Notebook on IBM Watson Studio (in this case: Skills Network Labs)",
      "metadata": {}
    },
    {
      "cell_type": "markdown",
      "source": "__Sebastian Korab__",
      "metadata": {}
    },
    {
      "cell_type": "markdown",
      "source": "_I am interested in Data Science because I want to leverage available data for the purpose of effective Risk Management._",
      "metadata": {}
    },
    {
      "cell_type": "markdown",
      "source": "### My Code just prints a thank you note for the person who is revising my notebook",
      "metadata": {}
    },
    {
      "cell_type": "code",
      "source": "number_of_thanks = 1000\nprint (\"Thank you a \" + str(number_of_thanks) +\" times !\")",
      "metadata": {
        "trusted": true
      },
      "execution_count": 14,
      "outputs": [
        {
          "name": "stdout",
          "text": "Thank you a 1000 times !\n",
          "output_type": "stream"
        }
      ]
    },
    {
      "cell_type": "markdown",
      "source": "| Markdown | Less | Pretty |\n| --- | --- | ---|\n| Still | renders | nicely |\n| 1 | 2 | 3 |",
      "metadata": {}
    },
    {
      "cell_type": "markdown",
      "source": "- one\n- two\n- three",
      "metadata": {}
    },
    {
      "cell_type": "markdown",
      "source": "1. one\n2. two\n3. three",
      "metadata": {}
    },
    {
      "cell_type": "markdown",
      "source": "__[Link to my Notebook on Github](https://www.robby-sails.com)__",
      "metadata": {}
    }
  ]
}